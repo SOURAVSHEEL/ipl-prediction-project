{
 "cells": [
  {
   "cell_type": "code",
   "execution_count": null,
   "metadata": {},
   "outputs": [],
   "source": []
  },
  {
   "cell_type": "markdown",
   "metadata": {},
   "source": [
    "## Feature: Batting Strength\n",
    "\n",
    "A measure of a team's batting capability based on player statistics.\n",
    "\n",
    "Approach:\n",
    "\n",
    "Calculate the sum of the strike rates and average runs per match of all batters in a team.\n",
    "\n",
    "Normalize this value for consistency."
   ]
  },
  {
   "cell_type": "code",
   "execution_count": null,
   "metadata": {},
   "outputs": [],
   "source": [
    "# Calculate individual batter strike rates\n",
    "batsman_stats = deliveries.groupby(\"batter\").agg({\"batsman_runs\": \"sum\", \"ball\": \"count\"})\n",
    "batsman_stats[\"strike_rate\"] = (batsman_stats[\"batsman_runs\"] / batsman_stats[\"ball\"]) * 100\n",
    "\n",
    "# Aggregate batting strength per team\n",
    "batting_strength = deliveries.groupby(\"batting_team\")[\"batter\"].apply(lambda x: x.map(batsman_stats[\"strike_rate\"]).sum())\n",
    "deliveries[\"batting_strength\"] = deliveries[\"batting_team\"].map(batting_strength)\n"
   ]
  },
  {
   "cell_type": "code",
   "execution_count": null,
   "metadata": {},
   "outputs": [],
   "source": []
  }
 ],
 "metadata": {
  "kernelspec": {
   "display_name": "iplenv",
   "language": "python",
   "name": "python3"
  },
  "language_info": {
   "name": "python",
   "version": "3.11.11"
  }
 },
 "nbformat": 4,
 "nbformat_minor": 2
}
