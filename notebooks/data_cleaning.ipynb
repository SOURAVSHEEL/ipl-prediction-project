{
 "cells": [
  {
   "cell_type": "code",
   "execution_count": 2,
   "metadata": {},
   "outputs": [],
   "source": [
    "import pandas as pd\n",
    "import numpy as np\n",
    "import matplotlib.pyplot as plt\n",
    "import seaborn as sns\n"
   ]
  },
  {
   "cell_type": "code",
   "execution_count": 3,
   "metadata": {},
   "outputs": [],
   "source": [
    "## Loading the data\n",
    "\n",
    "deliveries_data = pd.read_csv(r'C:\\Users\\soura\\OneDrive\\Desktop\\Projects\\IPL_Prediction\\data\\raw\\deliveries.csv')\n",
    "matches_data = pd.read_csv(r'C:\\Users\\soura\\OneDrive\\Desktop\\Projects\\IPL_Prediction\\data\\raw\\matches.csv')"
   ]
  },
  {
   "cell_type": "code",
   "execution_count": 4,
   "metadata": {},
   "outputs": [
    {
     "name": "stdout",
     "output_type": "stream",
     "text": [
      "(260920, 17)\n",
      "(1095, 20)\n"
     ]
    }
   ],
   "source": [
    "print(deliveries_data.shape)\n",
    "print(matches_data.shape)"
   ]
  },
  {
   "cell_type": "code",
   "execution_count": 5,
   "metadata": {},
   "outputs": [
    {
     "data": {
      "text/html": [
       "<div>\n",
       "<style scoped>\n",
       "    .dataframe tbody tr th:only-of-type {\n",
       "        vertical-align: middle;\n",
       "    }\n",
       "\n",
       "    .dataframe tbody tr th {\n",
       "        vertical-align: top;\n",
       "    }\n",
       "\n",
       "    .dataframe thead th {\n",
       "        text-align: right;\n",
       "    }\n",
       "</style>\n",
       "<table border=\"1\" class=\"dataframe\">\n",
       "  <thead>\n",
       "    <tr style=\"text-align: right;\">\n",
       "      <th></th>\n",
       "      <th>match_id</th>\n",
       "      <th>inning</th>\n",
       "      <th>batting_team</th>\n",
       "      <th>bowling_team</th>\n",
       "      <th>over</th>\n",
       "      <th>ball</th>\n",
       "      <th>batter</th>\n",
       "      <th>bowler</th>\n",
       "      <th>non_striker</th>\n",
       "      <th>batsman_runs</th>\n",
       "      <th>extra_runs</th>\n",
       "      <th>total_runs</th>\n",
       "      <th>extras_type</th>\n",
       "      <th>is_wicket</th>\n",
       "      <th>player_dismissed</th>\n",
       "      <th>dismissal_kind</th>\n",
       "      <th>fielder</th>\n",
       "    </tr>\n",
       "  </thead>\n",
       "  <tbody>\n",
       "    <tr>\n",
       "      <th>0</th>\n",
       "      <td>335982</td>\n",
       "      <td>1</td>\n",
       "      <td>Kolkata Knight Riders</td>\n",
       "      <td>Royal Challengers Bangalore</td>\n",
       "      <td>0</td>\n",
       "      <td>1</td>\n",
       "      <td>SC Ganguly</td>\n",
       "      <td>P Kumar</td>\n",
       "      <td>BB McCullum</td>\n",
       "      <td>0</td>\n",
       "      <td>1</td>\n",
       "      <td>1</td>\n",
       "      <td>legbyes</td>\n",
       "      <td>0</td>\n",
       "      <td>NaN</td>\n",
       "      <td>NaN</td>\n",
       "      <td>NaN</td>\n",
       "    </tr>\n",
       "    <tr>\n",
       "      <th>1</th>\n",
       "      <td>335982</td>\n",
       "      <td>1</td>\n",
       "      <td>Kolkata Knight Riders</td>\n",
       "      <td>Royal Challengers Bangalore</td>\n",
       "      <td>0</td>\n",
       "      <td>2</td>\n",
       "      <td>BB McCullum</td>\n",
       "      <td>P Kumar</td>\n",
       "      <td>SC Ganguly</td>\n",
       "      <td>0</td>\n",
       "      <td>0</td>\n",
       "      <td>0</td>\n",
       "      <td>NaN</td>\n",
       "      <td>0</td>\n",
       "      <td>NaN</td>\n",
       "      <td>NaN</td>\n",
       "      <td>NaN</td>\n",
       "    </tr>\n",
       "    <tr>\n",
       "      <th>2</th>\n",
       "      <td>335982</td>\n",
       "      <td>1</td>\n",
       "      <td>Kolkata Knight Riders</td>\n",
       "      <td>Royal Challengers Bangalore</td>\n",
       "      <td>0</td>\n",
       "      <td>3</td>\n",
       "      <td>BB McCullum</td>\n",
       "      <td>P Kumar</td>\n",
       "      <td>SC Ganguly</td>\n",
       "      <td>0</td>\n",
       "      <td>1</td>\n",
       "      <td>1</td>\n",
       "      <td>wides</td>\n",
       "      <td>0</td>\n",
       "      <td>NaN</td>\n",
       "      <td>NaN</td>\n",
       "      <td>NaN</td>\n",
       "    </tr>\n",
       "    <tr>\n",
       "      <th>3</th>\n",
       "      <td>335982</td>\n",
       "      <td>1</td>\n",
       "      <td>Kolkata Knight Riders</td>\n",
       "      <td>Royal Challengers Bangalore</td>\n",
       "      <td>0</td>\n",
       "      <td>4</td>\n",
       "      <td>BB McCullum</td>\n",
       "      <td>P Kumar</td>\n",
       "      <td>SC Ganguly</td>\n",
       "      <td>0</td>\n",
       "      <td>0</td>\n",
       "      <td>0</td>\n",
       "      <td>NaN</td>\n",
       "      <td>0</td>\n",
       "      <td>NaN</td>\n",
       "      <td>NaN</td>\n",
       "      <td>NaN</td>\n",
       "    </tr>\n",
       "    <tr>\n",
       "      <th>4</th>\n",
       "      <td>335982</td>\n",
       "      <td>1</td>\n",
       "      <td>Kolkata Knight Riders</td>\n",
       "      <td>Royal Challengers Bangalore</td>\n",
       "      <td>0</td>\n",
       "      <td>5</td>\n",
       "      <td>BB McCullum</td>\n",
       "      <td>P Kumar</td>\n",
       "      <td>SC Ganguly</td>\n",
       "      <td>0</td>\n",
       "      <td>0</td>\n",
       "      <td>0</td>\n",
       "      <td>NaN</td>\n",
       "      <td>0</td>\n",
       "      <td>NaN</td>\n",
       "      <td>NaN</td>\n",
       "      <td>NaN</td>\n",
       "    </tr>\n",
       "  </tbody>\n",
       "</table>\n",
       "</div>"
      ],
      "text/plain": [
       "   match_id  inning           batting_team                 bowling_team  over  \\\n",
       "0    335982       1  Kolkata Knight Riders  Royal Challengers Bangalore     0   \n",
       "1    335982       1  Kolkata Knight Riders  Royal Challengers Bangalore     0   \n",
       "2    335982       1  Kolkata Knight Riders  Royal Challengers Bangalore     0   \n",
       "3    335982       1  Kolkata Knight Riders  Royal Challengers Bangalore     0   \n",
       "4    335982       1  Kolkata Knight Riders  Royal Challengers Bangalore     0   \n",
       "\n",
       "   ball       batter   bowler  non_striker  batsman_runs  extra_runs  \\\n",
       "0     1   SC Ganguly  P Kumar  BB McCullum             0           1   \n",
       "1     2  BB McCullum  P Kumar   SC Ganguly             0           0   \n",
       "2     3  BB McCullum  P Kumar   SC Ganguly             0           1   \n",
       "3     4  BB McCullum  P Kumar   SC Ganguly             0           0   \n",
       "4     5  BB McCullum  P Kumar   SC Ganguly             0           0   \n",
       "\n",
       "   total_runs extras_type  is_wicket player_dismissed dismissal_kind fielder  \n",
       "0           1     legbyes          0              NaN            NaN     NaN  \n",
       "1           0         NaN          0              NaN            NaN     NaN  \n",
       "2           1       wides          0              NaN            NaN     NaN  \n",
       "3           0         NaN          0              NaN            NaN     NaN  \n",
       "4           0         NaN          0              NaN            NaN     NaN  "
      ]
     },
     "execution_count": 5,
     "metadata": {},
     "output_type": "execute_result"
    }
   ],
   "source": [
    "deliveries_data.head()"
   ]
  },
  {
   "cell_type": "code",
   "execution_count": 6,
   "metadata": {},
   "outputs": [
    {
     "data": {
      "text/html": [
       "<div>\n",
       "<style scoped>\n",
       "    .dataframe tbody tr th:only-of-type {\n",
       "        vertical-align: middle;\n",
       "    }\n",
       "\n",
       "    .dataframe tbody tr th {\n",
       "        vertical-align: top;\n",
       "    }\n",
       "\n",
       "    .dataframe thead th {\n",
       "        text-align: right;\n",
       "    }\n",
       "</style>\n",
       "<table border=\"1\" class=\"dataframe\">\n",
       "  <thead>\n",
       "    <tr style=\"text-align: right;\">\n",
       "      <th></th>\n",
       "      <th>id</th>\n",
       "      <th>season</th>\n",
       "      <th>city</th>\n",
       "      <th>date</th>\n",
       "      <th>match_type</th>\n",
       "      <th>player_of_match</th>\n",
       "      <th>venue</th>\n",
       "      <th>team1</th>\n",
       "      <th>team2</th>\n",
       "      <th>toss_winner</th>\n",
       "      <th>toss_decision</th>\n",
       "      <th>winner</th>\n",
       "      <th>result</th>\n",
       "      <th>result_margin</th>\n",
       "      <th>target_runs</th>\n",
       "      <th>target_overs</th>\n",
       "      <th>super_over</th>\n",
       "      <th>method</th>\n",
       "      <th>umpire1</th>\n",
       "      <th>umpire2</th>\n",
       "    </tr>\n",
       "  </thead>\n",
       "  <tbody>\n",
       "    <tr>\n",
       "      <th>0</th>\n",
       "      <td>335982</td>\n",
       "      <td>2007/08</td>\n",
       "      <td>Bangalore</td>\n",
       "      <td>2008-04-18</td>\n",
       "      <td>League</td>\n",
       "      <td>BB McCullum</td>\n",
       "      <td>M Chinnaswamy Stadium</td>\n",
       "      <td>Royal Challengers Bangalore</td>\n",
       "      <td>Kolkata Knight Riders</td>\n",
       "      <td>Royal Challengers Bangalore</td>\n",
       "      <td>field</td>\n",
       "      <td>Kolkata Knight Riders</td>\n",
       "      <td>runs</td>\n",
       "      <td>140.0</td>\n",
       "      <td>223.0</td>\n",
       "      <td>20.0</td>\n",
       "      <td>N</td>\n",
       "      <td>NaN</td>\n",
       "      <td>Asad Rauf</td>\n",
       "      <td>RE Koertzen</td>\n",
       "    </tr>\n",
       "    <tr>\n",
       "      <th>1</th>\n",
       "      <td>335983</td>\n",
       "      <td>2007/08</td>\n",
       "      <td>Chandigarh</td>\n",
       "      <td>2008-04-19</td>\n",
       "      <td>League</td>\n",
       "      <td>MEK Hussey</td>\n",
       "      <td>Punjab Cricket Association Stadium, Mohali</td>\n",
       "      <td>Kings XI Punjab</td>\n",
       "      <td>Chennai Super Kings</td>\n",
       "      <td>Chennai Super Kings</td>\n",
       "      <td>bat</td>\n",
       "      <td>Chennai Super Kings</td>\n",
       "      <td>runs</td>\n",
       "      <td>33.0</td>\n",
       "      <td>241.0</td>\n",
       "      <td>20.0</td>\n",
       "      <td>N</td>\n",
       "      <td>NaN</td>\n",
       "      <td>MR Benson</td>\n",
       "      <td>SL Shastri</td>\n",
       "    </tr>\n",
       "    <tr>\n",
       "      <th>2</th>\n",
       "      <td>335984</td>\n",
       "      <td>2007/08</td>\n",
       "      <td>Delhi</td>\n",
       "      <td>2008-04-19</td>\n",
       "      <td>League</td>\n",
       "      <td>MF Maharoof</td>\n",
       "      <td>Feroz Shah Kotla</td>\n",
       "      <td>Delhi Daredevils</td>\n",
       "      <td>Rajasthan Royals</td>\n",
       "      <td>Rajasthan Royals</td>\n",
       "      <td>bat</td>\n",
       "      <td>Delhi Daredevils</td>\n",
       "      <td>wickets</td>\n",
       "      <td>9.0</td>\n",
       "      <td>130.0</td>\n",
       "      <td>20.0</td>\n",
       "      <td>N</td>\n",
       "      <td>NaN</td>\n",
       "      <td>Aleem Dar</td>\n",
       "      <td>GA Pratapkumar</td>\n",
       "    </tr>\n",
       "    <tr>\n",
       "      <th>3</th>\n",
       "      <td>335985</td>\n",
       "      <td>2007/08</td>\n",
       "      <td>Mumbai</td>\n",
       "      <td>2008-04-20</td>\n",
       "      <td>League</td>\n",
       "      <td>MV Boucher</td>\n",
       "      <td>Wankhede Stadium</td>\n",
       "      <td>Mumbai Indians</td>\n",
       "      <td>Royal Challengers Bangalore</td>\n",
       "      <td>Mumbai Indians</td>\n",
       "      <td>bat</td>\n",
       "      <td>Royal Challengers Bangalore</td>\n",
       "      <td>wickets</td>\n",
       "      <td>5.0</td>\n",
       "      <td>166.0</td>\n",
       "      <td>20.0</td>\n",
       "      <td>N</td>\n",
       "      <td>NaN</td>\n",
       "      <td>SJ Davis</td>\n",
       "      <td>DJ Harper</td>\n",
       "    </tr>\n",
       "    <tr>\n",
       "      <th>4</th>\n",
       "      <td>335986</td>\n",
       "      <td>2007/08</td>\n",
       "      <td>Kolkata</td>\n",
       "      <td>2008-04-20</td>\n",
       "      <td>League</td>\n",
       "      <td>DJ Hussey</td>\n",
       "      <td>Eden Gardens</td>\n",
       "      <td>Kolkata Knight Riders</td>\n",
       "      <td>Deccan Chargers</td>\n",
       "      <td>Deccan Chargers</td>\n",
       "      <td>bat</td>\n",
       "      <td>Kolkata Knight Riders</td>\n",
       "      <td>wickets</td>\n",
       "      <td>5.0</td>\n",
       "      <td>111.0</td>\n",
       "      <td>20.0</td>\n",
       "      <td>N</td>\n",
       "      <td>NaN</td>\n",
       "      <td>BF Bowden</td>\n",
       "      <td>K Hariharan</td>\n",
       "    </tr>\n",
       "  </tbody>\n",
       "</table>\n",
       "</div>"
      ],
      "text/plain": [
       "       id   season        city        date match_type player_of_match  \\\n",
       "0  335982  2007/08   Bangalore  2008-04-18     League     BB McCullum   \n",
       "1  335983  2007/08  Chandigarh  2008-04-19     League      MEK Hussey   \n",
       "2  335984  2007/08       Delhi  2008-04-19     League     MF Maharoof   \n",
       "3  335985  2007/08      Mumbai  2008-04-20     League      MV Boucher   \n",
       "4  335986  2007/08     Kolkata  2008-04-20     League       DJ Hussey   \n",
       "\n",
       "                                        venue                        team1  \\\n",
       "0                       M Chinnaswamy Stadium  Royal Challengers Bangalore   \n",
       "1  Punjab Cricket Association Stadium, Mohali              Kings XI Punjab   \n",
       "2                            Feroz Shah Kotla             Delhi Daredevils   \n",
       "3                            Wankhede Stadium               Mumbai Indians   \n",
       "4                                Eden Gardens        Kolkata Knight Riders   \n",
       "\n",
       "                         team2                  toss_winner toss_decision  \\\n",
       "0        Kolkata Knight Riders  Royal Challengers Bangalore         field   \n",
       "1          Chennai Super Kings          Chennai Super Kings           bat   \n",
       "2             Rajasthan Royals             Rajasthan Royals           bat   \n",
       "3  Royal Challengers Bangalore               Mumbai Indians           bat   \n",
       "4              Deccan Chargers              Deccan Chargers           bat   \n",
       "\n",
       "                        winner   result  result_margin  target_runs  \\\n",
       "0        Kolkata Knight Riders     runs          140.0        223.0   \n",
       "1          Chennai Super Kings     runs           33.0        241.0   \n",
       "2             Delhi Daredevils  wickets            9.0        130.0   \n",
       "3  Royal Challengers Bangalore  wickets            5.0        166.0   \n",
       "4        Kolkata Knight Riders  wickets            5.0        111.0   \n",
       "\n",
       "   target_overs super_over method    umpire1         umpire2  \n",
       "0          20.0          N    NaN  Asad Rauf     RE Koertzen  \n",
       "1          20.0          N    NaN  MR Benson      SL Shastri  \n",
       "2          20.0          N    NaN  Aleem Dar  GA Pratapkumar  \n",
       "3          20.0          N    NaN   SJ Davis       DJ Harper  \n",
       "4          20.0          N    NaN  BF Bowden     K Hariharan  "
      ]
     },
     "execution_count": 6,
     "metadata": {},
     "output_type": "execute_result"
    }
   ],
   "source": [
    "matches_data.head()"
   ]
  },
  {
   "cell_type": "code",
   "execution_count": 7,
   "metadata": {},
   "outputs": [
    {
     "name": "stdout",
     "output_type": "stream",
     "text": [
      "<class 'pandas.core.frame.DataFrame'>\n",
      "RangeIndex: 260920 entries, 0 to 260919\n",
      "Data columns (total 17 columns):\n",
      " #   Column            Non-Null Count   Dtype \n",
      "---  ------            --------------   ----- \n",
      " 0   match_id          260920 non-null  int64 \n",
      " 1   inning            260920 non-null  int64 \n",
      " 2   batting_team      260920 non-null  object\n",
      " 3   bowling_team      260920 non-null  object\n",
      " 4   over              260920 non-null  int64 \n",
      " 5   ball              260920 non-null  int64 \n",
      " 6   batter            260920 non-null  object\n",
      " 7   bowler            260920 non-null  object\n",
      " 8   non_striker       260920 non-null  object\n",
      " 9   batsman_runs      260920 non-null  int64 \n",
      " 10  extra_runs        260920 non-null  int64 \n",
      " 11  total_runs        260920 non-null  int64 \n",
      " 12  extras_type       14125 non-null   object\n",
      " 13  is_wicket         260920 non-null  int64 \n",
      " 14  player_dismissed  12950 non-null   object\n",
      " 15  dismissal_kind    12950 non-null   object\n",
      " 16  fielder           9354 non-null    object\n",
      "dtypes: int64(8), object(9)\n",
      "memory usage: 33.8+ MB\n"
     ]
    }
   ],
   "source": [
    "deliveries_data.info()"
   ]
  },
  {
   "cell_type": "code",
   "execution_count": 8,
   "metadata": {},
   "outputs": [
    {
     "name": "stdout",
     "output_type": "stream",
     "text": [
      "<class 'pandas.core.frame.DataFrame'>\n",
      "RangeIndex: 1095 entries, 0 to 1094\n",
      "Data columns (total 20 columns):\n",
      " #   Column           Non-Null Count  Dtype  \n",
      "---  ------           --------------  -----  \n",
      " 0   id               1095 non-null   int64  \n",
      " 1   season           1095 non-null   object \n",
      " 2   city             1044 non-null   object \n",
      " 3   date             1095 non-null   object \n",
      " 4   match_type       1095 non-null   object \n",
      " 5   player_of_match  1090 non-null   object \n",
      " 6   venue            1095 non-null   object \n",
      " 7   team1            1095 non-null   object \n",
      " 8   team2            1095 non-null   object \n",
      " 9   toss_winner      1095 non-null   object \n",
      " 10  toss_decision    1095 non-null   object \n",
      " 11  winner           1090 non-null   object \n",
      " 12  result           1095 non-null   object \n",
      " 13  result_margin    1076 non-null   float64\n",
      " 14  target_runs      1092 non-null   float64\n",
      " 15  target_overs     1092 non-null   float64\n",
      " 16  super_over       1095 non-null   object \n",
      " 17  method           21 non-null     object \n",
      " 18  umpire1          1095 non-null   object \n",
      " 19  umpire2          1095 non-null   object \n",
      "dtypes: float64(3), int64(1), object(16)\n",
      "memory usage: 171.2+ KB\n"
     ]
    }
   ],
   "source": [
    "matches_data.info()"
   ]
  },
  {
   "cell_type": "code",
   "execution_count": 9,
   "metadata": {},
   "outputs": [
    {
     "data": {
      "text/plain": [
       "array(['2007/08', '2009', '2009/10', '2011', '2012', '2013', '2014',\n",
       "       '2015', '2016', '2017', '2018', '2019', '2020/21', '2021', '2022',\n",
       "       '2023', '2024'], dtype=object)"
      ]
     },
     "execution_count": 9,
     "metadata": {},
     "output_type": "execute_result"
    }
   ],
   "source": [
    "matches_data['season'].unique()"
   ]
  },
  {
   "cell_type": "code",
   "execution_count": 10,
   "metadata": {},
   "outputs": [
    {
     "data": {
      "text/plain": [
       "6"
      ]
     },
     "execution_count": 10,
     "metadata": {},
     "output_type": "execute_result"
    }
   ],
   "source": [
    "deliveries_data['inning'].nunique()"
   ]
  },
  {
   "cell_type": "code",
   "execution_count": 11,
   "metadata": {},
   "outputs": [
    {
     "data": {
      "text/plain": [
       "array(['Royal Challengers Bangalore', 'Kings XI Punjab',\n",
       "       'Delhi Daredevils', 'Mumbai Indians', 'Kolkata Knight Riders',\n",
       "       'Rajasthan Royals', 'Deccan Chargers', 'Chennai Super Kings',\n",
       "       'Kochi Tuskers Kerala', 'Pune Warriors', 'Sunrisers Hyderabad',\n",
       "       'Gujarat Lions', 'Rising Pune Supergiants',\n",
       "       'Rising Pune Supergiant', 'Delhi Capitals', 'Punjab Kings',\n",
       "       'Lucknow Super Giants', 'Gujarat Titans',\n",
       "       'Royal Challengers Bengaluru'], dtype=object)"
      ]
     },
     "execution_count": 11,
     "metadata": {},
     "output_type": "execute_result"
    }
   ],
   "source": [
    "matches_data['team1'].unique()"
   ]
  },
  {
   "cell_type": "code",
   "execution_count": 12,
   "metadata": {},
   "outputs": [
    {
     "data": {
      "text/plain": [
       "id                    0\n",
       "season                0\n",
       "city                 51\n",
       "date                  0\n",
       "match_type            0\n",
       "player_of_match       5\n",
       "venue                 0\n",
       "team1                 0\n",
       "team2                 0\n",
       "toss_winner           0\n",
       "toss_decision         0\n",
       "winner                5\n",
       "result                0\n",
       "result_margin        19\n",
       "target_runs           3\n",
       "target_overs          3\n",
       "super_over            0\n",
       "method             1074\n",
       "umpire1               0\n",
       "umpire2               0\n",
       "dtype: int64"
      ]
     },
     "execution_count": 12,
     "metadata": {},
     "output_type": "execute_result"
    }
   ],
   "source": [
    "matches_data.isnull().sum()"
   ]
  },
  {
   "cell_type": "code",
   "execution_count": 13,
   "metadata": {},
   "outputs": [
    {
     "data": {
      "text/plain": [
       "match_id                 0\n",
       "inning                   0\n",
       "batting_team             0\n",
       "bowling_team             0\n",
       "over                     0\n",
       "ball                     0\n",
       "batter                   0\n",
       "bowler                   0\n",
       "non_striker              0\n",
       "batsman_runs             0\n",
       "extra_runs               0\n",
       "total_runs               0\n",
       "extras_type         246795\n",
       "is_wicket                0\n",
       "player_dismissed    247970\n",
       "dismissal_kind      247970\n",
       "fielder             251566\n",
       "dtype: int64"
      ]
     },
     "execution_count": 13,
     "metadata": {},
     "output_type": "execute_result"
    }
   ],
   "source": [
    "deliveries_data.isnull().sum()  "
   ]
  },
  {
   "cell_type": "code",
   "execution_count": 14,
   "metadata": {},
   "outputs": [
    {
     "data": {
      "text/html": [
       "<div>\n",
       "<style scoped>\n",
       "    .dataframe tbody tr th:only-of-type {\n",
       "        vertical-align: middle;\n",
       "    }\n",
       "\n",
       "    .dataframe tbody tr th {\n",
       "        vertical-align: top;\n",
       "    }\n",
       "\n",
       "    .dataframe thead th {\n",
       "        text-align: right;\n",
       "    }\n",
       "</style>\n",
       "<table border=\"1\" class=\"dataframe\">\n",
       "  <thead>\n",
       "    <tr style=\"text-align: right;\">\n",
       "      <th></th>\n",
       "      <th>id</th>\n",
       "      <th>season</th>\n",
       "      <th>city</th>\n",
       "      <th>date</th>\n",
       "      <th>match_type</th>\n",
       "      <th>player_of_match</th>\n",
       "      <th>venue</th>\n",
       "      <th>team1</th>\n",
       "      <th>team2</th>\n",
       "      <th>toss_winner</th>\n",
       "      <th>toss_decision</th>\n",
       "      <th>winner</th>\n",
       "      <th>result</th>\n",
       "      <th>result_margin</th>\n",
       "      <th>target_runs</th>\n",
       "      <th>target_overs</th>\n",
       "      <th>super_over</th>\n",
       "      <th>method</th>\n",
       "      <th>umpire1</th>\n",
       "      <th>umpire2</th>\n",
       "    </tr>\n",
       "  </thead>\n",
       "  <tbody>\n",
       "    <tr>\n",
       "      <th>0</th>\n",
       "      <td>335982</td>\n",
       "      <td>2007/08</td>\n",
       "      <td>Bangalore</td>\n",
       "      <td>2008-04-18</td>\n",
       "      <td>League</td>\n",
       "      <td>BB McCullum</td>\n",
       "      <td>M Chinnaswamy Stadium</td>\n",
       "      <td>Royal Challengers Bangalore</td>\n",
       "      <td>Kolkata Knight Riders</td>\n",
       "      <td>Royal Challengers Bangalore</td>\n",
       "      <td>field</td>\n",
       "      <td>Kolkata Knight Riders</td>\n",
       "      <td>runs</td>\n",
       "      <td>140.0</td>\n",
       "      <td>223.0</td>\n",
       "      <td>20.0</td>\n",
       "      <td>N</td>\n",
       "      <td>NaN</td>\n",
       "      <td>Asad Rauf</td>\n",
       "      <td>RE Koertzen</td>\n",
       "    </tr>\n",
       "    <tr>\n",
       "      <th>1</th>\n",
       "      <td>335983</td>\n",
       "      <td>2007/08</td>\n",
       "      <td>Chandigarh</td>\n",
       "      <td>2008-04-19</td>\n",
       "      <td>League</td>\n",
       "      <td>MEK Hussey</td>\n",
       "      <td>Punjab Cricket Association Stadium, Mohali</td>\n",
       "      <td>Kings XI Punjab</td>\n",
       "      <td>Chennai Super Kings</td>\n",
       "      <td>Chennai Super Kings</td>\n",
       "      <td>bat</td>\n",
       "      <td>Chennai Super Kings</td>\n",
       "      <td>runs</td>\n",
       "      <td>33.0</td>\n",
       "      <td>241.0</td>\n",
       "      <td>20.0</td>\n",
       "      <td>N</td>\n",
       "      <td>NaN</td>\n",
       "      <td>MR Benson</td>\n",
       "      <td>SL Shastri</td>\n",
       "    </tr>\n",
       "    <tr>\n",
       "      <th>2</th>\n",
       "      <td>335984</td>\n",
       "      <td>2007/08</td>\n",
       "      <td>Delhi</td>\n",
       "      <td>2008-04-19</td>\n",
       "      <td>League</td>\n",
       "      <td>MF Maharoof</td>\n",
       "      <td>Feroz Shah Kotla</td>\n",
       "      <td>Delhi Daredevils</td>\n",
       "      <td>Rajasthan Royals</td>\n",
       "      <td>Rajasthan Royals</td>\n",
       "      <td>bat</td>\n",
       "      <td>Delhi Daredevils</td>\n",
       "      <td>wickets</td>\n",
       "      <td>9.0</td>\n",
       "      <td>130.0</td>\n",
       "      <td>20.0</td>\n",
       "      <td>N</td>\n",
       "      <td>NaN</td>\n",
       "      <td>Aleem Dar</td>\n",
       "      <td>GA Pratapkumar</td>\n",
       "    </tr>\n",
       "    <tr>\n",
       "      <th>3</th>\n",
       "      <td>335985</td>\n",
       "      <td>2007/08</td>\n",
       "      <td>Mumbai</td>\n",
       "      <td>2008-04-20</td>\n",
       "      <td>League</td>\n",
       "      <td>MV Boucher</td>\n",
       "      <td>Wankhede Stadium</td>\n",
       "      <td>Mumbai Indians</td>\n",
       "      <td>Royal Challengers Bangalore</td>\n",
       "      <td>Mumbai Indians</td>\n",
       "      <td>bat</td>\n",
       "      <td>Royal Challengers Bangalore</td>\n",
       "      <td>wickets</td>\n",
       "      <td>5.0</td>\n",
       "      <td>166.0</td>\n",
       "      <td>20.0</td>\n",
       "      <td>N</td>\n",
       "      <td>NaN</td>\n",
       "      <td>SJ Davis</td>\n",
       "      <td>DJ Harper</td>\n",
       "    </tr>\n",
       "    <tr>\n",
       "      <th>4</th>\n",
       "      <td>335986</td>\n",
       "      <td>2007/08</td>\n",
       "      <td>Kolkata</td>\n",
       "      <td>2008-04-20</td>\n",
       "      <td>League</td>\n",
       "      <td>DJ Hussey</td>\n",
       "      <td>Eden Gardens</td>\n",
       "      <td>Kolkata Knight Riders</td>\n",
       "      <td>Deccan Chargers</td>\n",
       "      <td>Deccan Chargers</td>\n",
       "      <td>bat</td>\n",
       "      <td>Kolkata Knight Riders</td>\n",
       "      <td>wickets</td>\n",
       "      <td>5.0</td>\n",
       "      <td>111.0</td>\n",
       "      <td>20.0</td>\n",
       "      <td>N</td>\n",
       "      <td>NaN</td>\n",
       "      <td>BF Bowden</td>\n",
       "      <td>K Hariharan</td>\n",
       "    </tr>\n",
       "  </tbody>\n",
       "</table>\n",
       "</div>"
      ],
      "text/plain": [
       "       id   season        city        date match_type player_of_match  \\\n",
       "0  335982  2007/08   Bangalore  2008-04-18     League     BB McCullum   \n",
       "1  335983  2007/08  Chandigarh  2008-04-19     League      MEK Hussey   \n",
       "2  335984  2007/08       Delhi  2008-04-19     League     MF Maharoof   \n",
       "3  335985  2007/08      Mumbai  2008-04-20     League      MV Boucher   \n",
       "4  335986  2007/08     Kolkata  2008-04-20     League       DJ Hussey   \n",
       "\n",
       "                                        venue                        team1  \\\n",
       "0                       M Chinnaswamy Stadium  Royal Challengers Bangalore   \n",
       "1  Punjab Cricket Association Stadium, Mohali              Kings XI Punjab   \n",
       "2                            Feroz Shah Kotla             Delhi Daredevils   \n",
       "3                            Wankhede Stadium               Mumbai Indians   \n",
       "4                                Eden Gardens        Kolkata Knight Riders   \n",
       "\n",
       "                         team2                  toss_winner toss_decision  \\\n",
       "0        Kolkata Knight Riders  Royal Challengers Bangalore         field   \n",
       "1          Chennai Super Kings          Chennai Super Kings           bat   \n",
       "2             Rajasthan Royals             Rajasthan Royals           bat   \n",
       "3  Royal Challengers Bangalore               Mumbai Indians           bat   \n",
       "4              Deccan Chargers              Deccan Chargers           bat   \n",
       "\n",
       "                        winner   result  result_margin  target_runs  \\\n",
       "0        Kolkata Knight Riders     runs          140.0        223.0   \n",
       "1          Chennai Super Kings     runs           33.0        241.0   \n",
       "2             Delhi Daredevils  wickets            9.0        130.0   \n",
       "3  Royal Challengers Bangalore  wickets            5.0        166.0   \n",
       "4        Kolkata Knight Riders  wickets            5.0        111.0   \n",
       "\n",
       "   target_overs super_over method    umpire1         umpire2  \n",
       "0          20.0          N    NaN  Asad Rauf     RE Koertzen  \n",
       "1          20.0          N    NaN  MR Benson      SL Shastri  \n",
       "2          20.0          N    NaN  Aleem Dar  GA Pratapkumar  \n",
       "3          20.0          N    NaN   SJ Davis       DJ Harper  \n",
       "4          20.0          N    NaN  BF Bowden     K Hariharan  "
      ]
     },
     "execution_count": 14,
     "metadata": {},
     "output_type": "execute_result"
    }
   ],
   "source": [
    "matches_data.head()"
   ]
  },
  {
   "cell_type": "code",
   "execution_count": 15,
   "metadata": {},
   "outputs": [
    {
     "data": {
      "text/html": [
       "<div>\n",
       "<style scoped>\n",
       "    .dataframe tbody tr th:only-of-type {\n",
       "        vertical-align: middle;\n",
       "    }\n",
       "\n",
       "    .dataframe tbody tr th {\n",
       "        vertical-align: top;\n",
       "    }\n",
       "\n",
       "    .dataframe thead th {\n",
       "        text-align: right;\n",
       "    }\n",
       "</style>\n",
       "<table border=\"1\" class=\"dataframe\">\n",
       "  <thead>\n",
       "    <tr style=\"text-align: right;\">\n",
       "      <th></th>\n",
       "      <th>match_id</th>\n",
       "      <th>inning</th>\n",
       "      <th>batting_team</th>\n",
       "      <th>bowling_team</th>\n",
       "      <th>over</th>\n",
       "      <th>ball</th>\n",
       "      <th>batter</th>\n",
       "      <th>bowler</th>\n",
       "      <th>non_striker</th>\n",
       "      <th>batsman_runs</th>\n",
       "      <th>extra_runs</th>\n",
       "      <th>total_runs</th>\n",
       "      <th>extras_type</th>\n",
       "      <th>is_wicket</th>\n",
       "      <th>player_dismissed</th>\n",
       "      <th>dismissal_kind</th>\n",
       "      <th>fielder</th>\n",
       "    </tr>\n",
       "  </thead>\n",
       "  <tbody>\n",
       "    <tr>\n",
       "      <th>0</th>\n",
       "      <td>335982</td>\n",
       "      <td>1</td>\n",
       "      <td>Kolkata Knight Riders</td>\n",
       "      <td>Royal Challengers Bangalore</td>\n",
       "      <td>0</td>\n",
       "      <td>1</td>\n",
       "      <td>SC Ganguly</td>\n",
       "      <td>P Kumar</td>\n",
       "      <td>BB McCullum</td>\n",
       "      <td>0</td>\n",
       "      <td>1</td>\n",
       "      <td>1</td>\n",
       "      <td>legbyes</td>\n",
       "      <td>0</td>\n",
       "      <td>NaN</td>\n",
       "      <td>NaN</td>\n",
       "      <td>NaN</td>\n",
       "    </tr>\n",
       "    <tr>\n",
       "      <th>1</th>\n",
       "      <td>335982</td>\n",
       "      <td>1</td>\n",
       "      <td>Kolkata Knight Riders</td>\n",
       "      <td>Royal Challengers Bangalore</td>\n",
       "      <td>0</td>\n",
       "      <td>2</td>\n",
       "      <td>BB McCullum</td>\n",
       "      <td>P Kumar</td>\n",
       "      <td>SC Ganguly</td>\n",
       "      <td>0</td>\n",
       "      <td>0</td>\n",
       "      <td>0</td>\n",
       "      <td>NaN</td>\n",
       "      <td>0</td>\n",
       "      <td>NaN</td>\n",
       "      <td>NaN</td>\n",
       "      <td>NaN</td>\n",
       "    </tr>\n",
       "    <tr>\n",
       "      <th>2</th>\n",
       "      <td>335982</td>\n",
       "      <td>1</td>\n",
       "      <td>Kolkata Knight Riders</td>\n",
       "      <td>Royal Challengers Bangalore</td>\n",
       "      <td>0</td>\n",
       "      <td>3</td>\n",
       "      <td>BB McCullum</td>\n",
       "      <td>P Kumar</td>\n",
       "      <td>SC Ganguly</td>\n",
       "      <td>0</td>\n",
       "      <td>1</td>\n",
       "      <td>1</td>\n",
       "      <td>wides</td>\n",
       "      <td>0</td>\n",
       "      <td>NaN</td>\n",
       "      <td>NaN</td>\n",
       "      <td>NaN</td>\n",
       "    </tr>\n",
       "    <tr>\n",
       "      <th>3</th>\n",
       "      <td>335982</td>\n",
       "      <td>1</td>\n",
       "      <td>Kolkata Knight Riders</td>\n",
       "      <td>Royal Challengers Bangalore</td>\n",
       "      <td>0</td>\n",
       "      <td>4</td>\n",
       "      <td>BB McCullum</td>\n",
       "      <td>P Kumar</td>\n",
       "      <td>SC Ganguly</td>\n",
       "      <td>0</td>\n",
       "      <td>0</td>\n",
       "      <td>0</td>\n",
       "      <td>NaN</td>\n",
       "      <td>0</td>\n",
       "      <td>NaN</td>\n",
       "      <td>NaN</td>\n",
       "      <td>NaN</td>\n",
       "    </tr>\n",
       "    <tr>\n",
       "      <th>4</th>\n",
       "      <td>335982</td>\n",
       "      <td>1</td>\n",
       "      <td>Kolkata Knight Riders</td>\n",
       "      <td>Royal Challengers Bangalore</td>\n",
       "      <td>0</td>\n",
       "      <td>5</td>\n",
       "      <td>BB McCullum</td>\n",
       "      <td>P Kumar</td>\n",
       "      <td>SC Ganguly</td>\n",
       "      <td>0</td>\n",
       "      <td>0</td>\n",
       "      <td>0</td>\n",
       "      <td>NaN</td>\n",
       "      <td>0</td>\n",
       "      <td>NaN</td>\n",
       "      <td>NaN</td>\n",
       "      <td>NaN</td>\n",
       "    </tr>\n",
       "  </tbody>\n",
       "</table>\n",
       "</div>"
      ],
      "text/plain": [
       "   match_id  inning           batting_team                 bowling_team  over  \\\n",
       "0    335982       1  Kolkata Knight Riders  Royal Challengers Bangalore     0   \n",
       "1    335982       1  Kolkata Knight Riders  Royal Challengers Bangalore     0   \n",
       "2    335982       1  Kolkata Knight Riders  Royal Challengers Bangalore     0   \n",
       "3    335982       1  Kolkata Knight Riders  Royal Challengers Bangalore     0   \n",
       "4    335982       1  Kolkata Knight Riders  Royal Challengers Bangalore     0   \n",
       "\n",
       "   ball       batter   bowler  non_striker  batsman_runs  extra_runs  \\\n",
       "0     1   SC Ganguly  P Kumar  BB McCullum             0           1   \n",
       "1     2  BB McCullum  P Kumar   SC Ganguly             0           0   \n",
       "2     3  BB McCullum  P Kumar   SC Ganguly             0           1   \n",
       "3     4  BB McCullum  P Kumar   SC Ganguly             0           0   \n",
       "4     5  BB McCullum  P Kumar   SC Ganguly             0           0   \n",
       "\n",
       "   total_runs extras_type  is_wicket player_dismissed dismissal_kind fielder  \n",
       "0           1     legbyes          0              NaN            NaN     NaN  \n",
       "1           0         NaN          0              NaN            NaN     NaN  \n",
       "2           1       wides          0              NaN            NaN     NaN  \n",
       "3           0         NaN          0              NaN            NaN     NaN  \n",
       "4           0         NaN          0              NaN            NaN     NaN  "
      ]
     },
     "execution_count": 15,
     "metadata": {},
     "output_type": "execute_result"
    }
   ],
   "source": [
    "deliveries_data.head()"
   ]
  },
  {
   "cell_type": "code",
   "execution_count": 16,
   "metadata": {},
   "outputs": [],
   "source": [
    "df = pd.merge(deliveries_data, matches_data, left_on='match_id', right_on='id')"
   ]
  },
  {
   "cell_type": "code",
   "execution_count": 17,
   "metadata": {},
   "outputs": [
    {
     "data": {
      "text/html": [
       "<div>\n",
       "<style scoped>\n",
       "    .dataframe tbody tr th:only-of-type {\n",
       "        vertical-align: middle;\n",
       "    }\n",
       "\n",
       "    .dataframe tbody tr th {\n",
       "        vertical-align: top;\n",
       "    }\n",
       "\n",
       "    .dataframe thead th {\n",
       "        text-align: right;\n",
       "    }\n",
       "</style>\n",
       "<table border=\"1\" class=\"dataframe\">\n",
       "  <thead>\n",
       "    <tr style=\"text-align: right;\">\n",
       "      <th></th>\n",
       "      <th>match_id</th>\n",
       "      <th>inning</th>\n",
       "      <th>batting_team</th>\n",
       "      <th>bowling_team</th>\n",
       "      <th>over</th>\n",
       "      <th>ball</th>\n",
       "      <th>batter</th>\n",
       "      <th>bowler</th>\n",
       "      <th>non_striker</th>\n",
       "      <th>batsman_runs</th>\n",
       "      <th>...</th>\n",
       "      <th>toss_decision</th>\n",
       "      <th>winner</th>\n",
       "      <th>result</th>\n",
       "      <th>result_margin</th>\n",
       "      <th>target_runs</th>\n",
       "      <th>target_overs</th>\n",
       "      <th>super_over</th>\n",
       "      <th>method</th>\n",
       "      <th>umpire1</th>\n",
       "      <th>umpire2</th>\n",
       "    </tr>\n",
       "  </thead>\n",
       "  <tbody>\n",
       "    <tr>\n",
       "      <th>0</th>\n",
       "      <td>335982</td>\n",
       "      <td>1</td>\n",
       "      <td>Kolkata Knight Riders</td>\n",
       "      <td>Royal Challengers Bangalore</td>\n",
       "      <td>0</td>\n",
       "      <td>1</td>\n",
       "      <td>SC Ganguly</td>\n",
       "      <td>P Kumar</td>\n",
       "      <td>BB McCullum</td>\n",
       "      <td>0</td>\n",
       "      <td>...</td>\n",
       "      <td>field</td>\n",
       "      <td>Kolkata Knight Riders</td>\n",
       "      <td>runs</td>\n",
       "      <td>140.0</td>\n",
       "      <td>223.0</td>\n",
       "      <td>20.0</td>\n",
       "      <td>N</td>\n",
       "      <td>NaN</td>\n",
       "      <td>Asad Rauf</td>\n",
       "      <td>RE Koertzen</td>\n",
       "    </tr>\n",
       "    <tr>\n",
       "      <th>1</th>\n",
       "      <td>335982</td>\n",
       "      <td>1</td>\n",
       "      <td>Kolkata Knight Riders</td>\n",
       "      <td>Royal Challengers Bangalore</td>\n",
       "      <td>0</td>\n",
       "      <td>2</td>\n",
       "      <td>BB McCullum</td>\n",
       "      <td>P Kumar</td>\n",
       "      <td>SC Ganguly</td>\n",
       "      <td>0</td>\n",
       "      <td>...</td>\n",
       "      <td>field</td>\n",
       "      <td>Kolkata Knight Riders</td>\n",
       "      <td>runs</td>\n",
       "      <td>140.0</td>\n",
       "      <td>223.0</td>\n",
       "      <td>20.0</td>\n",
       "      <td>N</td>\n",
       "      <td>NaN</td>\n",
       "      <td>Asad Rauf</td>\n",
       "      <td>RE Koertzen</td>\n",
       "    </tr>\n",
       "    <tr>\n",
       "      <th>2</th>\n",
       "      <td>335982</td>\n",
       "      <td>1</td>\n",
       "      <td>Kolkata Knight Riders</td>\n",
       "      <td>Royal Challengers Bangalore</td>\n",
       "      <td>0</td>\n",
       "      <td>3</td>\n",
       "      <td>BB McCullum</td>\n",
       "      <td>P Kumar</td>\n",
       "      <td>SC Ganguly</td>\n",
       "      <td>0</td>\n",
       "      <td>...</td>\n",
       "      <td>field</td>\n",
       "      <td>Kolkata Knight Riders</td>\n",
       "      <td>runs</td>\n",
       "      <td>140.0</td>\n",
       "      <td>223.0</td>\n",
       "      <td>20.0</td>\n",
       "      <td>N</td>\n",
       "      <td>NaN</td>\n",
       "      <td>Asad Rauf</td>\n",
       "      <td>RE Koertzen</td>\n",
       "    </tr>\n",
       "    <tr>\n",
       "      <th>3</th>\n",
       "      <td>335982</td>\n",
       "      <td>1</td>\n",
       "      <td>Kolkata Knight Riders</td>\n",
       "      <td>Royal Challengers Bangalore</td>\n",
       "      <td>0</td>\n",
       "      <td>4</td>\n",
       "      <td>BB McCullum</td>\n",
       "      <td>P Kumar</td>\n",
       "      <td>SC Ganguly</td>\n",
       "      <td>0</td>\n",
       "      <td>...</td>\n",
       "      <td>field</td>\n",
       "      <td>Kolkata Knight Riders</td>\n",
       "      <td>runs</td>\n",
       "      <td>140.0</td>\n",
       "      <td>223.0</td>\n",
       "      <td>20.0</td>\n",
       "      <td>N</td>\n",
       "      <td>NaN</td>\n",
       "      <td>Asad Rauf</td>\n",
       "      <td>RE Koertzen</td>\n",
       "    </tr>\n",
       "    <tr>\n",
       "      <th>4</th>\n",
       "      <td>335982</td>\n",
       "      <td>1</td>\n",
       "      <td>Kolkata Knight Riders</td>\n",
       "      <td>Royal Challengers Bangalore</td>\n",
       "      <td>0</td>\n",
       "      <td>5</td>\n",
       "      <td>BB McCullum</td>\n",
       "      <td>P Kumar</td>\n",
       "      <td>SC Ganguly</td>\n",
       "      <td>0</td>\n",
       "      <td>...</td>\n",
       "      <td>field</td>\n",
       "      <td>Kolkata Knight Riders</td>\n",
       "      <td>runs</td>\n",
       "      <td>140.0</td>\n",
       "      <td>223.0</td>\n",
       "      <td>20.0</td>\n",
       "      <td>N</td>\n",
       "      <td>NaN</td>\n",
       "      <td>Asad Rauf</td>\n",
       "      <td>RE Koertzen</td>\n",
       "    </tr>\n",
       "  </tbody>\n",
       "</table>\n",
       "<p>5 rows × 37 columns</p>\n",
       "</div>"
      ],
      "text/plain": [
       "   match_id  inning           batting_team                 bowling_team  over  \\\n",
       "0    335982       1  Kolkata Knight Riders  Royal Challengers Bangalore     0   \n",
       "1    335982       1  Kolkata Knight Riders  Royal Challengers Bangalore     0   \n",
       "2    335982       1  Kolkata Knight Riders  Royal Challengers Bangalore     0   \n",
       "3    335982       1  Kolkata Knight Riders  Royal Challengers Bangalore     0   \n",
       "4    335982       1  Kolkata Knight Riders  Royal Challengers Bangalore     0   \n",
       "\n",
       "   ball       batter   bowler  non_striker  batsman_runs  ...  toss_decision  \\\n",
       "0     1   SC Ganguly  P Kumar  BB McCullum             0  ...          field   \n",
       "1     2  BB McCullum  P Kumar   SC Ganguly             0  ...          field   \n",
       "2     3  BB McCullum  P Kumar   SC Ganguly             0  ...          field   \n",
       "3     4  BB McCullum  P Kumar   SC Ganguly             0  ...          field   \n",
       "4     5  BB McCullum  P Kumar   SC Ganguly             0  ...          field   \n",
       "\n",
       "                  winner result  result_margin target_runs target_overs  \\\n",
       "0  Kolkata Knight Riders   runs          140.0       223.0         20.0   \n",
       "1  Kolkata Knight Riders   runs          140.0       223.0         20.0   \n",
       "2  Kolkata Knight Riders   runs          140.0       223.0         20.0   \n",
       "3  Kolkata Knight Riders   runs          140.0       223.0         20.0   \n",
       "4  Kolkata Knight Riders   runs          140.0       223.0         20.0   \n",
       "\n",
       "  super_over  method    umpire1      umpire2  \n",
       "0          N     NaN  Asad Rauf  RE Koertzen  \n",
       "1          N     NaN  Asad Rauf  RE Koertzen  \n",
       "2          N     NaN  Asad Rauf  RE Koertzen  \n",
       "3          N     NaN  Asad Rauf  RE Koertzen  \n",
       "4          N     NaN  Asad Rauf  RE Koertzen  \n",
       "\n",
       "[5 rows x 37 columns]"
      ]
     },
     "execution_count": 17,
     "metadata": {},
     "output_type": "execute_result"
    }
   ],
   "source": [
    "df.head()"
   ]
  },
  {
   "cell_type": "code",
   "execution_count": 18,
   "metadata": {},
   "outputs": [
    {
     "data": {
      "text/plain": [
       "Index(['match_id', 'inning', 'batting_team', 'bowling_team', 'over', 'ball',\n",
       "       'batter', 'bowler', 'non_striker', 'batsman_runs', 'extra_runs',\n",
       "       'total_runs', 'extras_type', 'is_wicket', 'player_dismissed',\n",
       "       'dismissal_kind', 'fielder', 'id', 'season', 'city', 'date',\n",
       "       'match_type', 'player_of_match', 'venue', 'team1', 'team2',\n",
       "       'toss_winner', 'toss_decision', 'winner', 'result', 'result_margin',\n",
       "       'target_runs', 'target_overs', 'super_over', 'method', 'umpire1',\n",
       "       'umpire2'],\n",
       "      dtype='object')"
      ]
     },
     "execution_count": 18,
     "metadata": {},
     "output_type": "execute_result"
    }
   ],
   "source": [
    "df.columns"
   ]
  },
  {
   "cell_type": "code",
   "execution_count": 19,
   "metadata": {},
   "outputs": [
    {
     "name": "stdout",
     "output_type": "stream",
     "text": [
      "<class 'pandas.core.frame.DataFrame'>\n",
      "RangeIndex: 260920 entries, 0 to 260919\n",
      "Data columns (total 37 columns):\n",
      " #   Column            Non-Null Count   Dtype  \n",
      "---  ------            --------------   -----  \n",
      " 0   match_id          260920 non-null  int64  \n",
      " 1   inning            260920 non-null  int64  \n",
      " 2   batting_team      260920 non-null  object \n",
      " 3   bowling_team      260920 non-null  object \n",
      " 4   over              260920 non-null  int64  \n",
      " 5   ball              260920 non-null  int64  \n",
      " 6   batter            260920 non-null  object \n",
      " 7   bowler            260920 non-null  object \n",
      " 8   non_striker       260920 non-null  object \n",
      " 9   batsman_runs      260920 non-null  int64  \n",
      " 10  extra_runs        260920 non-null  int64  \n",
      " 11  total_runs        260920 non-null  int64  \n",
      " 12  extras_type       14125 non-null   object \n",
      " 13  is_wicket         260920 non-null  int64  \n",
      " 14  player_dismissed  12950 non-null   object \n",
      " 15  dismissal_kind    12950 non-null   object \n",
      " 16  fielder           9354 non-null    object \n",
      " 17  id                260920 non-null  int64  \n",
      " 18  season            260920 non-null  object \n",
      " 19  city              248523 non-null  object \n",
      " 20  date              260920 non-null  object \n",
      " 21  match_type        260920 non-null  object \n",
      " 22  player_of_match   260430 non-null  object \n",
      " 23  venue             260920 non-null  object \n",
      " 24  team1             260920 non-null  object \n",
      " 25  team2             260920 non-null  object \n",
      " 26  toss_winner       260920 non-null  object \n",
      " 27  toss_decision     260920 non-null  object \n",
      " 28  winner            260430 non-null  object \n",
      " 29  result            260920 non-null  object \n",
      " 30  result_margin     256796 non-null  float64\n",
      " 31  target_runs       260611 non-null  float64\n",
      " 32  target_overs      260611 non-null  float64\n",
      " 33  super_over        260920 non-null  object \n",
      " 34  method            3646 non-null    object \n",
      " 35  umpire1           260920 non-null  object \n",
      " 36  umpire2           260920 non-null  object \n",
      "dtypes: float64(3), int64(9), object(25)\n",
      "memory usage: 73.7+ MB\n"
     ]
    }
   ],
   "source": [
    "df.info()"
   ]
  },
  {
   "cell_type": "code",
   "execution_count": 20,
   "metadata": {},
   "outputs": [
    {
     "data": {
      "text/plain": [
       "array(['2007/08', '2009', '2009/10', '2011', '2012', '2013', '2014',\n",
       "       '2015', '2016', '2017', '2018', '2019', '2020/21', '2021', '2022',\n",
       "       '2023', '2024'], dtype=object)"
      ]
     },
     "execution_count": 20,
     "metadata": {},
     "output_type": "execute_result"
    }
   ],
   "source": [
    "df['season'].unique()"
   ]
  },
  {
   "cell_type": "code",
   "execution_count": 21,
   "metadata": {},
   "outputs": [
    {
     "data": {
      "text/plain": [
       "array(['Royal Challengers Bangalore', 'Kings XI Punjab',\n",
       "       'Delhi Daredevils', 'Mumbai Indians', 'Kolkata Knight Riders',\n",
       "       'Rajasthan Royals', 'Deccan Chargers', 'Chennai Super Kings',\n",
       "       'Kochi Tuskers Kerala', 'Pune Warriors', 'Sunrisers Hyderabad',\n",
       "       'Gujarat Lions', 'Rising Pune Supergiants',\n",
       "       'Rising Pune Supergiant', 'Delhi Capitals', 'Punjab Kings',\n",
       "       'Lucknow Super Giants', 'Gujarat Titans',\n",
       "       'Royal Challengers Bengaluru'], dtype=object)"
      ]
     },
     "execution_count": 21,
     "metadata": {},
     "output_type": "execute_result"
    }
   ],
   "source": [
    "df['team1'].unique()"
   ]
  },
  {
   "cell_type": "code",
   "execution_count": 22,
   "metadata": {},
   "outputs": [
    {
     "data": {
      "text/plain": [
       "array(['Kolkata Knight Riders', 'Chennai Super Kings', 'Rajasthan Royals',\n",
       "       'Royal Challengers Bangalore', 'Deccan Chargers',\n",
       "       'Kings XI Punjab', 'Delhi Daredevils', 'Mumbai Indians',\n",
       "       'Kochi Tuskers Kerala', 'Pune Warriors', 'Sunrisers Hyderabad',\n",
       "       'Rising Pune Supergiants', 'Gujarat Lions',\n",
       "       'Rising Pune Supergiant', 'Delhi Capitals', 'Punjab Kings',\n",
       "       'Gujarat Titans', 'Lucknow Super Giants',\n",
       "       'Royal Challengers Bengaluru'], dtype=object)"
      ]
     },
     "execution_count": 22,
     "metadata": {},
     "output_type": "execute_result"
    }
   ],
   "source": [
    "df['team2'].unique()"
   ]
  },
  {
   "cell_type": "code",
   "execution_count": 23,
   "metadata": {},
   "outputs": [
    {
     "data": {
      "text/plain": [
       "array(['League', 'Semi Final', 'Final', '3rd Place Play-Off',\n",
       "       'Qualifier 1', 'Elimination Final', 'Qualifier 2', 'Eliminator'],\n",
       "      dtype=object)"
      ]
     },
     "execution_count": 23,
     "metadata": {},
     "output_type": "execute_result"
    }
   ],
   "source": [
    "df['match_type'].unique()"
   ]
  },
  {
   "cell_type": "code",
   "execution_count": 24,
   "metadata": {},
   "outputs": [
    {
     "data": {
      "text/plain": [
       "Index(['match_id', 'inning', 'batting_team', 'bowling_team', 'over', 'ball',\n",
       "       'batter', 'bowler', 'non_striker', 'batsman_runs', 'extra_runs',\n",
       "       'total_runs', 'extras_type', 'is_wicket', 'player_dismissed',\n",
       "       'dismissal_kind', 'fielder', 'id', 'season', 'city', 'date',\n",
       "       'match_type', 'player_of_match', 'venue', 'team1', 'team2',\n",
       "       'toss_winner', 'toss_decision', 'winner', 'result', 'result_margin',\n",
       "       'target_runs', 'target_overs', 'super_over', 'method', 'umpire1',\n",
       "       'umpire2'],\n",
       "      dtype='object')"
      ]
     },
     "execution_count": 24,
     "metadata": {},
     "output_type": "execute_result"
    }
   ],
   "source": [
    "df.columns"
   ]
  },
  {
   "cell_type": "code",
   "execution_count": 25,
   "metadata": {},
   "outputs": [
    {
     "data": {
      "text/plain": [
       "0    Kolkata Knight Riders\n",
       "1    Kolkata Knight Riders\n",
       "2    Kolkata Knight Riders\n",
       "3    Kolkata Knight Riders\n",
       "4    Kolkata Knight Riders\n",
       "Name: batting_team, dtype: object"
      ]
     },
     "execution_count": 25,
     "metadata": {},
     "output_type": "execute_result"
    }
   ],
   "source": [
    "df['batting_team'].head()"
   ]
  },
  {
   "cell_type": "code",
   "execution_count": 26,
   "metadata": {},
   "outputs": [
    {
     "data": {
      "text/plain": [
       "160520    wickets\n",
       "114476       runs\n",
       "73229     wickets\n",
       "190944    wickets\n",
       "99796     wickets\n",
       "229226    wickets\n",
       "45995        runs\n",
       "233959       runs\n",
       "89839        runs\n",
       "91534        runs\n",
       "Name: result, dtype: object"
      ]
     },
     "execution_count": 26,
     "metadata": {},
     "output_type": "execute_result"
    }
   ],
   "source": [
    "df['result'].sample(10) "
   ]
  },
  {
   "cell_type": "code",
   "execution_count": 27,
   "metadata": {},
   "outputs": [
    {
     "data": {
      "text/plain": [
       "bowler\n",
       "R Ashwin         4679\n",
       "SP Narine        4146\n",
       "B Kumar          4060\n",
       "RA Jadeja        3895\n",
       "PP Chawla        3895\n",
       "                 ... \n",
       "SN Khan             2\n",
       "SPD Smith           2\n",
       "AC Gilchrist        1\n",
       "YBK Jaiswal         1\n",
       "Atharva Taide       1\n",
       "Name: count, Length: 530, dtype: int64"
      ]
     },
     "execution_count": 27,
     "metadata": {},
     "output_type": "execute_result"
    }
   ],
   "source": [
    "df['bowler'].value_counts()"
   ]
  },
  {
   "cell_type": "code",
   "execution_count": 28,
   "metadata": {},
   "outputs": [
    {
     "data": {
      "text/plain": [
       "city\n",
       "Mumbai            41742\n",
       "Kolkata           21846\n",
       "Delhi             21269\n",
       "Chennai           20706\n",
       "Hyderabad         18355\n",
       "Bangalore         14907\n",
       "Chandigarh        14476\n",
       "Jaipur            13520\n",
       "Pune              12239\n",
       "Abu Dhabi          8799\n",
       "Ahmedabad          8553\n",
       "Bengaluru          6917\n",
       "Durban             3643\n",
       "Visakhapatnam      3537\n",
       "Lucknow            3283\n",
       "Dubai              3149\n",
       "Dharamsala         3141\n",
       "Centurion          2866\n",
       "Rajkot             2381\n",
       "Sharjah            2355\n",
       "Navi Mumbai        2188\n",
       "Indore             1965\n",
       "Johannesburg       1940\n",
       "Cuttack            1695\n",
       "Port Elizabeth     1677\n",
       "Ranchi             1671\n",
       "Cape Town          1539\n",
       "Raipur             1431\n",
       "Mohali             1235\n",
       "Kochi              1155\n",
       "Kanpur              921\n",
       "Nagpur              742\n",
       "Guwahati            739\n",
       "Kimberley           726\n",
       "East London         715\n",
       "Bloemfontein        500\n",
       "Name: count, dtype: int64"
      ]
     },
     "execution_count": 28,
     "metadata": {},
     "output_type": "execute_result"
    }
   ],
   "source": [
    "df['city'].value_counts()"
   ]
  },
  {
   "cell_type": "code",
   "execution_count": 29,
   "metadata": {},
   "outputs": [
    {
     "data": {
      "text/plain": [
       "venue\n",
       "Eden Gardens                                                             17988\n",
       "Wankhede Stadium                                                         17591\n",
       "M Chinnaswamy Stadium                                                    14907\n",
       "Feroz Shah Kotla                                                         13950\n",
       "MA Chidambaram Stadium, Chepauk                                          11760\n",
       "Rajiv Gandhi International Stadium, Uppal                                11604\n",
       "Dubai International Cricket Stadium                                      11229\n",
       "Sawai Mansingh Stadium                                                   11150\n",
       "Wankhede Stadium, Mumbai                                                 10915\n",
       "Punjab Cricket Association Stadium, Mohali                                8266\n",
       "Sheikh Zayed Stadium                                                      6925\n",
       "MA Chidambaram Stadium, Chepauk, Chennai                                  6816\n",
       "Sharjah Cricket Stadium                                                   6672\n",
       "Narendra Modi Stadium, Ahmedabad                                          5660\n",
       "Maharashtra Cricket Association Stadium                                   5294\n",
       "Dr DY Patil Sports Academy, Mumbai                                        4905\n",
       "Brabourne Stadium, Mumbai                                                 4057\n",
       "Dr DY Patil Sports Academy                                                3993\n",
       "Arun Jaitley Stadium, Delhi                                               3963\n",
       "Eden Gardens, Kolkata                                                     3858\n",
       "Subrata Roy Sahara Stadium                                                3825\n",
       "Kingsmead                                                                 3643\n",
       "Rajiv Gandhi International Stadium                                        3609\n",
       "M.Chinnaswamy Stadium                                                     3494\n",
       "M Chinnaswamy Stadium, Bengaluru                                          3423\n",
       "Arun Jaitley Stadium                                                      3356\n",
       "Bharat Ratna Shri Atal Bihari Vajpayee Ekana Cricket Stadium, Lucknow     3283\n",
       "Rajiv Gandhi International Stadium, Uppal, Hyderabad                      3142\n",
       "Maharashtra Cricket Association Stadium, Pune                             3120\n",
       "Dr. Y.S. Rajasekhara Reddy ACA-VDCA Cricket Stadium                       3037\n",
       "Sardar Patel Stadium, Motera                                              2893\n",
       "SuperSport Park                                                           2866\n",
       "Punjab Cricket Association IS Bindra Stadium, Mohali                      2574\n",
       "Brabourne Stadium                                                         2469\n",
       "Punjab Cricket Association IS Bindra Stadium                              2429\n",
       "Saurashtra Cricket Association Stadium                                    2381\n",
       "Sawai Mansingh Stadium, Jaipur                                            2370\n",
       "Himachal Pradesh Cricket Association Stadium                              2159\n",
       "MA Chidambaram Stadium                                                    2130\n",
       "Holkar Cricket Stadium                                                    1965\n",
       "New Wanderers Stadium                                                     1940\n",
       "Zayed Cricket Stadium, Abu Dhabi                                          1874\n",
       "Barabati Stadium                                                          1695\n",
       "St George's Park                                                          1677\n",
       "JSCA International Stadium Complex                                        1671\n",
       "Newlands                                                                  1539\n",
       "Shaheed Veer Narayan Singh International Stadium                          1431\n",
       "Maharaja Yadavindra Singh International Cricket Stadium, Mullanpur        1235\n",
       "Punjab Cricket Association IS Bindra Stadium, Mohali, Chandigarh          1207\n",
       "Nehru Stadium                                                             1155\n",
       "Himachal Pradesh Cricket Association Stadium, Dharamsala                   982\n",
       "Green Park                                                                 921\n",
       "Vidarbha Cricket Association Stadium, Jamtha                               742\n",
       "Barsapara Cricket Stadium, Guwahati                                        739\n",
       "De Beers Diamond Oval                                                      726\n",
       "Buffalo Park                                                               715\n",
       "OUTsurance Oval                                                            500\n",
       "Dr. Y.S. Rajasekhara Reddy ACA-VDCA Cricket Stadium, Visakhapatnam         500\n",
       "Name: count, dtype: int64"
      ]
     },
     "execution_count": 29,
     "metadata": {},
     "output_type": "execute_result"
    }
   ],
   "source": [
    "df['venue'].value_counts()"
   ]
  },
  {
   "cell_type": "code",
   "execution_count": 30,
   "metadata": {},
   "outputs": [
    {
     "data": {
      "text/plain": [
       "Index(['match_id', 'inning', 'batting_team', 'bowling_team', 'over', 'ball',\n",
       "       'batter', 'bowler', 'non_striker', 'batsman_runs', 'extra_runs',\n",
       "       'total_runs', 'extras_type', 'is_wicket', 'player_dismissed',\n",
       "       'dismissal_kind', 'fielder', 'id', 'season', 'city', 'date',\n",
       "       'match_type', 'player_of_match', 'venue', 'team1', 'team2',\n",
       "       'toss_winner', 'toss_decision', 'winner', 'result', 'result_margin',\n",
       "       'target_runs', 'target_overs', 'super_over', 'method', 'umpire1',\n",
       "       'umpire2'],\n",
       "      dtype='object')"
      ]
     },
     "execution_count": 30,
     "metadata": {},
     "output_type": "execute_result"
    }
   ],
   "source": [
    "df.columns"
   ]
  },
  {
   "cell_type": "code",
   "execution_count": 31,
   "metadata": {},
   "outputs": [
    {
     "data": {
      "text/plain": [
       "over\n",
       "0     13906\n",
       "1     13773\n",
       "2     13597\n",
       "3     13575\n",
       "4     13560\n",
       "5     13494\n",
       "6     13452\n",
       "7     13430\n",
       "8     13396\n",
       "9     13354\n",
       "10    13289\n",
       "11    13261\n",
       "12    13222\n",
       "13    13124\n",
       "14    13024\n",
       "15    12879\n",
       "16    12685\n",
       "17    12318\n",
       "18    11583\n",
       "19     9998\n",
       "Name: count, dtype: int64"
      ]
     },
     "execution_count": 31,
     "metadata": {},
     "output_type": "execute_result"
    }
   ],
   "source": [
    "df['over'].value_counts()"
   ]
  },
  {
   "cell_type": "code",
   "execution_count": 32,
   "metadata": {},
   "outputs": [
    {
     "data": {
      "text/plain": [
       "ball\n",
       "1     42210\n",
       "2     42106\n",
       "3     42002\n",
       "4     41891\n",
       "5     41752\n",
       "6     41619\n",
       "7      7776\n",
       "8      1307\n",
       "9       225\n",
       "10       30\n",
       "11        2\n",
       "Name: count, dtype: int64"
      ]
     },
     "execution_count": 32,
     "metadata": {},
     "output_type": "execute_result"
    }
   ],
   "source": [
    "df['ball'].value_counts()   "
   ]
  },
  {
   "cell_type": "code",
   "execution_count": 33,
   "metadata": {},
   "outputs": [],
   "source": [
    "## dropping the columns which are not required\n",
    "df.drop(['match_id','id','over','ball','season','city','team1','team2','result','umpire1','umpire2','method','match_type','date','fielder','dismissal_kind','player_dismissed','is_wicket','extras_type','result_margin'],axis=1, inplace=True)"
   ]
  },
  {
   "cell_type": "code",
   "execution_count": 34,
   "metadata": {},
   "outputs": [
    {
     "data": {
      "text/html": [
       "<div>\n",
       "<style scoped>\n",
       "    .dataframe tbody tr th:only-of-type {\n",
       "        vertical-align: middle;\n",
       "    }\n",
       "\n",
       "    .dataframe tbody tr th {\n",
       "        vertical-align: top;\n",
       "    }\n",
       "\n",
       "    .dataframe thead th {\n",
       "        text-align: right;\n",
       "    }\n",
       "</style>\n",
       "<table border=\"1\" class=\"dataframe\">\n",
       "  <thead>\n",
       "    <tr style=\"text-align: right;\">\n",
       "      <th></th>\n",
       "      <th>inning</th>\n",
       "      <th>batting_team</th>\n",
       "      <th>bowling_team</th>\n",
       "      <th>batter</th>\n",
       "      <th>bowler</th>\n",
       "      <th>non_striker</th>\n",
       "      <th>batsman_runs</th>\n",
       "      <th>extra_runs</th>\n",
       "      <th>total_runs</th>\n",
       "      <th>player_of_match</th>\n",
       "      <th>venue</th>\n",
       "      <th>toss_winner</th>\n",
       "      <th>toss_decision</th>\n",
       "      <th>winner</th>\n",
       "      <th>target_runs</th>\n",
       "      <th>target_overs</th>\n",
       "      <th>super_over</th>\n",
       "    </tr>\n",
       "  </thead>\n",
       "  <tbody>\n",
       "    <tr>\n",
       "      <th>0</th>\n",
       "      <td>1</td>\n",
       "      <td>Kolkata Knight Riders</td>\n",
       "      <td>Royal Challengers Bangalore</td>\n",
       "      <td>SC Ganguly</td>\n",
       "      <td>P Kumar</td>\n",
       "      <td>BB McCullum</td>\n",
       "      <td>0</td>\n",
       "      <td>1</td>\n",
       "      <td>1</td>\n",
       "      <td>BB McCullum</td>\n",
       "      <td>M Chinnaswamy Stadium</td>\n",
       "      <td>Royal Challengers Bangalore</td>\n",
       "      <td>field</td>\n",
       "      <td>Kolkata Knight Riders</td>\n",
       "      <td>223.0</td>\n",
       "      <td>20.0</td>\n",
       "      <td>N</td>\n",
       "    </tr>\n",
       "    <tr>\n",
       "      <th>1</th>\n",
       "      <td>1</td>\n",
       "      <td>Kolkata Knight Riders</td>\n",
       "      <td>Royal Challengers Bangalore</td>\n",
       "      <td>BB McCullum</td>\n",
       "      <td>P Kumar</td>\n",
       "      <td>SC Ganguly</td>\n",
       "      <td>0</td>\n",
       "      <td>0</td>\n",
       "      <td>0</td>\n",
       "      <td>BB McCullum</td>\n",
       "      <td>M Chinnaswamy Stadium</td>\n",
       "      <td>Royal Challengers Bangalore</td>\n",
       "      <td>field</td>\n",
       "      <td>Kolkata Knight Riders</td>\n",
       "      <td>223.0</td>\n",
       "      <td>20.0</td>\n",
       "      <td>N</td>\n",
       "    </tr>\n",
       "    <tr>\n",
       "      <th>2</th>\n",
       "      <td>1</td>\n",
       "      <td>Kolkata Knight Riders</td>\n",
       "      <td>Royal Challengers Bangalore</td>\n",
       "      <td>BB McCullum</td>\n",
       "      <td>P Kumar</td>\n",
       "      <td>SC Ganguly</td>\n",
       "      <td>0</td>\n",
       "      <td>1</td>\n",
       "      <td>1</td>\n",
       "      <td>BB McCullum</td>\n",
       "      <td>M Chinnaswamy Stadium</td>\n",
       "      <td>Royal Challengers Bangalore</td>\n",
       "      <td>field</td>\n",
       "      <td>Kolkata Knight Riders</td>\n",
       "      <td>223.0</td>\n",
       "      <td>20.0</td>\n",
       "      <td>N</td>\n",
       "    </tr>\n",
       "    <tr>\n",
       "      <th>3</th>\n",
       "      <td>1</td>\n",
       "      <td>Kolkata Knight Riders</td>\n",
       "      <td>Royal Challengers Bangalore</td>\n",
       "      <td>BB McCullum</td>\n",
       "      <td>P Kumar</td>\n",
       "      <td>SC Ganguly</td>\n",
       "      <td>0</td>\n",
       "      <td>0</td>\n",
       "      <td>0</td>\n",
       "      <td>BB McCullum</td>\n",
       "      <td>M Chinnaswamy Stadium</td>\n",
       "      <td>Royal Challengers Bangalore</td>\n",
       "      <td>field</td>\n",
       "      <td>Kolkata Knight Riders</td>\n",
       "      <td>223.0</td>\n",
       "      <td>20.0</td>\n",
       "      <td>N</td>\n",
       "    </tr>\n",
       "    <tr>\n",
       "      <th>4</th>\n",
       "      <td>1</td>\n",
       "      <td>Kolkata Knight Riders</td>\n",
       "      <td>Royal Challengers Bangalore</td>\n",
       "      <td>BB McCullum</td>\n",
       "      <td>P Kumar</td>\n",
       "      <td>SC Ganguly</td>\n",
       "      <td>0</td>\n",
       "      <td>0</td>\n",
       "      <td>0</td>\n",
       "      <td>BB McCullum</td>\n",
       "      <td>M Chinnaswamy Stadium</td>\n",
       "      <td>Royal Challengers Bangalore</td>\n",
       "      <td>field</td>\n",
       "      <td>Kolkata Knight Riders</td>\n",
       "      <td>223.0</td>\n",
       "      <td>20.0</td>\n",
       "      <td>N</td>\n",
       "    </tr>\n",
       "  </tbody>\n",
       "</table>\n",
       "</div>"
      ],
      "text/plain": [
       "   inning           batting_team                 bowling_team       batter  \\\n",
       "0       1  Kolkata Knight Riders  Royal Challengers Bangalore   SC Ganguly   \n",
       "1       1  Kolkata Knight Riders  Royal Challengers Bangalore  BB McCullum   \n",
       "2       1  Kolkata Knight Riders  Royal Challengers Bangalore  BB McCullum   \n",
       "3       1  Kolkata Knight Riders  Royal Challengers Bangalore  BB McCullum   \n",
       "4       1  Kolkata Knight Riders  Royal Challengers Bangalore  BB McCullum   \n",
       "\n",
       "    bowler  non_striker  batsman_runs  extra_runs  total_runs player_of_match  \\\n",
       "0  P Kumar  BB McCullum             0           1           1     BB McCullum   \n",
       "1  P Kumar   SC Ganguly             0           0           0     BB McCullum   \n",
       "2  P Kumar   SC Ganguly             0           1           1     BB McCullum   \n",
       "3  P Kumar   SC Ganguly             0           0           0     BB McCullum   \n",
       "4  P Kumar   SC Ganguly             0           0           0     BB McCullum   \n",
       "\n",
       "                   venue                  toss_winner toss_decision  \\\n",
       "0  M Chinnaswamy Stadium  Royal Challengers Bangalore         field   \n",
       "1  M Chinnaswamy Stadium  Royal Challengers Bangalore         field   \n",
       "2  M Chinnaswamy Stadium  Royal Challengers Bangalore         field   \n",
       "3  M Chinnaswamy Stadium  Royal Challengers Bangalore         field   \n",
       "4  M Chinnaswamy Stadium  Royal Challengers Bangalore         field   \n",
       "\n",
       "                  winner  target_runs  target_overs super_over  \n",
       "0  Kolkata Knight Riders        223.0          20.0          N  \n",
       "1  Kolkata Knight Riders        223.0          20.0          N  \n",
       "2  Kolkata Knight Riders        223.0          20.0          N  \n",
       "3  Kolkata Knight Riders        223.0          20.0          N  \n",
       "4  Kolkata Knight Riders        223.0          20.0          N  "
      ]
     },
     "execution_count": 34,
     "metadata": {},
     "output_type": "execute_result"
    }
   ],
   "source": [
    "df.head()"
   ]
  },
  {
   "cell_type": "code",
   "execution_count": 35,
   "metadata": {},
   "outputs": [
    {
     "data": {
      "text/plain": [
       "Index(['inning', 'batting_team', 'bowling_team', 'batter', 'bowler',\n",
       "       'non_striker', 'batsman_runs', 'extra_runs', 'total_runs',\n",
       "       'player_of_match', 'venue', 'toss_winner', 'toss_decision', 'winner',\n",
       "       'target_runs', 'target_overs', 'super_over'],\n",
       "      dtype='object')"
      ]
     },
     "execution_count": 35,
     "metadata": {},
     "output_type": "execute_result"
    }
   ],
   "source": [
    "df.columns"
   ]
  },
  {
   "cell_type": "code",
   "execution_count": 36,
   "metadata": {},
   "outputs": [
    {
     "data": {
      "text/plain": [
       "inning               0\n",
       "batting_team         0\n",
       "bowling_team         0\n",
       "batter               0\n",
       "bowler               0\n",
       "non_striker          0\n",
       "batsman_runs         0\n",
       "extra_runs           0\n",
       "total_runs           0\n",
       "player_of_match    490\n",
       "venue                0\n",
       "toss_winner          0\n",
       "toss_decision        0\n",
       "winner             490\n",
       "target_runs        309\n",
       "target_overs       309\n",
       "super_over           0\n",
       "dtype: int64"
      ]
     },
     "execution_count": 36,
     "metadata": {},
     "output_type": "execute_result"
    }
   ],
   "source": [
    "df.isnull().sum()"
   ]
  },
  {
   "cell_type": "code",
   "execution_count": 37,
   "metadata": {},
   "outputs": [
    {
     "data": {
      "text/plain": [
       "0         BB McCullum\n",
       "1         BB McCullum\n",
       "2         BB McCullum\n",
       "3         BB McCullum\n",
       "4         BB McCullum\n",
       "             ...     \n",
       "260915       MA Starc\n",
       "260916       MA Starc\n",
       "260917       MA Starc\n",
       "260918       MA Starc\n",
       "260919       MA Starc\n",
       "Name: player_of_match, Length: 260920, dtype: object"
      ]
     },
     "execution_count": 37,
     "metadata": {},
     "output_type": "execute_result"
    }
   ],
   "source": [
    "df['player_of_match']"
   ]
  },
  {
   "cell_type": "code",
   "execution_count": 38,
   "metadata": {},
   "outputs": [
    {
     "data": {
      "text/plain": [
       "inning\n",
       "1    135018\n",
       "2    125741\n",
       "3        77\n",
       "4        72\n",
       "5         8\n",
       "6         4\n",
       "Name: count, dtype: int64"
      ]
     },
     "execution_count": 38,
     "metadata": {},
     "output_type": "execute_result"
    }
   ],
   "source": [
    "df['inning'].value_counts()"
   ]
  },
  {
   "cell_type": "code",
   "execution_count": 42,
   "metadata": {},
   "outputs": [
    {
     "data": {
      "text/plain": [
       "179742    2\n",
       "14390     2\n",
       "149833    2\n",
       "260833    1\n",
       "235003    2\n",
       "200751    1\n",
       "202586    2\n",
       "109099    1\n",
       "30299     1\n",
       "15352     2\n",
       "44697     1\n",
       "223786    1\n",
       "Name: inning, dtype: int64"
      ]
     },
     "execution_count": 42,
     "metadata": {},
     "output_type": "execute_result"
    }
   ],
   "source": [
    "df['inning'].sample(12)"
   ]
  }
 ],
 "metadata": {
  "kernelspec": {
   "display_name": "iplenv",
   "language": "python",
   "name": "python3"
  },
  "language_info": {
   "codemirror_mode": {
    "name": "ipython",
    "version": 3
   },
   "file_extension": ".py",
   "mimetype": "text/x-python",
   "name": "python",
   "nbconvert_exporter": "python",
   "pygments_lexer": "ipython3",
   "version": "3.11.11"
  }
 },
 "nbformat": 4,
 "nbformat_minor": 2
}
